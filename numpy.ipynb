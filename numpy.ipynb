{
  "nbformat": 4,
  "nbformat_minor": 0,
  "metadata": {
    "colab": {
      "provenance": [],
      "collapsed_sections": [
        "xmWsncyZKano",
        "lc1RoywPLIaC"
      ]
    },
    "kernelspec": {
      "name": "python3",
      "display_name": "Python 3"
    },
    "language_info": {
      "name": "python"
    }
  },
  "cells": [
    {
      "cell_type": "markdown",
      "source": [
        "# Aula 01"
      ],
      "metadata": {
        "id": "xmWsncyZKano"
      }
    },
    {
      "cell_type": "markdown",
      "source": [
        "## Importando os dados e iniciando o NumPy"
      ],
      "metadata": {
        "id": "yovJjkIMKdi2"
      }
    },
    {
      "cell_type": "code",
      "execution_count": 16,
      "metadata": {
        "id": "cwC9mq071wEW"
      },
      "outputs": [],
      "source": [
        "import numpy as np"
      ]
    },
    {
      "cell_type": "code",
      "source": [
        "url = 'https://raw.githubusercontent.com/mariaiteixeira/numpy/main/dados/apples_ts.csv'"
      ],
      "metadata": {
        "id": "XEfkfrt84DWx"
      },
      "execution_count": 17,
      "outputs": []
    },
    {
      "cell_type": "code",
      "source": [
        "# Total de meses = 87\n",
        "np.arange(1,88,1)"
      ],
      "metadata": {
        "colab": {
          "base_uri": "https://localhost:8080/"
        },
        "id": "eI51bM-S2Rpn",
        "outputId": "dca92a5e-a6c5-4827-eac8-29842554eb62"
      },
      "execution_count": 18,
      "outputs": [
        {
          "output_type": "execute_result",
          "data": {
            "text/plain": [
              "array([ 1,  2,  3,  4,  5,  6,  7,  8,  9, 10, 11, 12, 13, 14, 15, 16, 17,\n",
              "       18, 19, 20, 21, 22, 23, 24, 25, 26, 27, 28, 29, 30, 31, 32, 33, 34,\n",
              "       35, 36, 37, 38, 39, 40, 41, 42, 43, 44, 45, 46, 47, 48, 49, 50, 51,\n",
              "       52, 53, 54, 55, 56, 57, 58, 59, 60, 61, 62, 63, 64, 65, 66, 67, 68,\n",
              "       69, 70, 71, 72, 73, 74, 75, 76, 77, 78, 79, 80, 81, 82, 83, 84, 85,\n",
              "       86, 87])"
            ]
          },
          "metadata": {},
          "execution_count": 18
        }
      ]
    },
    {
      "cell_type": "code",
      "source": [
        "dado = np.loadtxt(url,delimiter=',',usecols=np.arange(1,88,1))"
      ],
      "metadata": {
        "id": "NhilOQ4-2Epl"
      },
      "execution_count": 19,
      "outputs": []
    },
    {
      "cell_type": "code",
      "source": [
        "dado.ndim"
      ],
      "metadata": {
        "colab": {
          "base_uri": "https://localhost:8080/"
        },
        "id": "s2gxl5663DpP",
        "outputId": "14590701-0277-4583-b06a-1f9d28fb5d6e"
      },
      "execution_count": 20,
      "outputs": [
        {
          "output_type": "execute_result",
          "data": {
            "text/plain": [
              "2"
            ]
          },
          "metadata": {},
          "execution_count": 20
        }
      ]
    },
    {
      "cell_type": "code",
      "source": [
        "dado.size"
      ],
      "metadata": {
        "colab": {
          "base_uri": "https://localhost:8080/"
        },
        "id": "495O9r4LITni",
        "outputId": "428db04a-de48-46fc-a009-a562a3053ff3"
      },
      "execution_count": 21,
      "outputs": [
        {
          "output_type": "execute_result",
          "data": {
            "text/plain": [
              "522"
            ]
          },
          "metadata": {},
          "execution_count": 21
        }
      ]
    },
    {
      "cell_type": "code",
      "source": [
        "dado.shape"
      ],
      "metadata": {
        "colab": {
          "base_uri": "https://localhost:8080/"
        },
        "id": "yMvDO5UeIb1V",
        "outputId": "c4b98fea-213e-4a2c-b875-b56996c393a2"
      },
      "execution_count": 22,
      "outputs": [
        {
          "output_type": "execute_result",
          "data": {
            "text/plain": [
              "(6, 87)"
            ]
          },
          "metadata": {},
          "execution_count": 22
        }
      ]
    },
    {
      "cell_type": "code",
      "source": [
        "dado_transposto = dado.T"
      ],
      "metadata": {
        "id": "XB80gUkjIgAl"
      },
      "execution_count": 25,
      "outputs": []
    },
    {
      "cell_type": "markdown",
      "source": [
        "## Atividade para obter as dimensões"
      ],
      "metadata": {
        "id": "9SKvOm3kKY7V"
      }
    },
    {
      "cell_type": "code",
      "source": [
        "bytebank = 'https://raw.githubusercontent.com/mariaiteixeira/numpy/main/dados/bytebank.csv'"
      ],
      "metadata": {
        "id": "c8AjK15nJPom"
      },
      "execution_count": 33,
      "outputs": []
    },
    {
      "cell_type": "code",
      "source": [
        "# Para fazer obter as dimensões do array podemos aplicar o método shape:\n",
        "dado2 = np.loadtxt(bytebank, delimiter=',', skiprows=1, dtype=float)\n",
        "np.shape(dado2)"
      ],
      "metadata": {
        "colab": {
          "base_uri": "https://localhost:8080/"
        },
        "id": "omuhaLU8JsTs",
        "outputId": "d5a1bd39-6167-42fd-f76c-0cdf1993de44"
      },
      "execution_count": 34,
      "outputs": [
        {
          "output_type": "execute_result",
          "data": {
            "text/plain": [
              "(12, 2)"
            ]
          },
          "metadata": {},
          "execution_count": 34
        }
      ]
    },
    {
      "cell_type": "code",
      "source": [
        "# Podemos também fazer deste modo - chamamos o np e aplicamos por cima dos nossos dados:\n",
        "dado2 = np.loadtxt(bytebank, delimiter=',',skiprows=1,dtype=float)\n",
        "dado2.shape"
      ],
      "metadata": {
        "colab": {
          "base_uri": "https://localhost:8080/"
        },
        "id": "dHdLfUurJzWR",
        "outputId": "26c23712-142a-4938-a7ab-d7e69f88c2ee"
      },
      "execution_count": 35,
      "outputs": [
        {
          "output_type": "execute_result",
          "data": {
            "text/plain": [
              "(12, 2)"
            ]
          },
          "metadata": {},
          "execution_count": 35
        }
      ]
    },
    {
      "cell_type": "markdown",
      "source": [
        "## Desafio do \"Faça como eu fiz\""
      ],
      "metadata": {
        "id": "GQTGBDBZLXmF"
      }
    },
    {
      "cell_type": "code",
      "source": [
        "citrus = 'https://raw.githubusercontent.com/mariaiteixeira/numpy/main/dados/citrus.csv'"
      ],
      "metadata": {
        "id": "xM-13XDKLbPE"
      },
      "execution_count": 36,
      "outputs": []
    },
    {
      "cell_type": "code",
      "source": [
        "dado3 = np.loadtxt(citrus, delimiter=',', usecols=np.arange(1,6,1), skiprows=1)"
      ],
      "metadata": {
        "id": "MMEsZ17kLhfK"
      },
      "execution_count": 43,
      "outputs": []
    },
    {
      "cell_type": "markdown",
      "source": [
        "# Aula 02"
      ],
      "metadata": {
        "id": "lc1RoywPLIaC"
      }
    },
    {
      "cell_type": "code",
      "source": [],
      "metadata": {
        "id": "ZNUKGsKDLNKJ"
      },
      "execution_count": null,
      "outputs": []
    }
  ]
}